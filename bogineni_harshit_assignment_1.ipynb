{
 "cells": [
  {
   "cell_type": "markdown",
   "metadata": {
    "id": "mMcWEbFiLKvn"
   },
   "source": [
    "# NumPy Exercises\n",
    "\n",
    "Now that we've learned about NumPy let's test your knowledge. We'll start off with a few simple tasks, and then you'll be asked some more complicated questions."
   ]
  },
  {
   "cell_type": "markdown",
   "metadata": {
    "id": "DvBjXHM1LKvw"
   },
   "source": [
    "#### Import NumPy as np"
   ]
  },
  {
   "cell_type": "code",
   "execution_count": 1,
   "metadata": {
    "id": "StInvTamLKv0"
   },
   "outputs": [],
   "source": [
    "import numpy as np"
   ]
  },
  {
   "cell_type": "markdown",
   "metadata": {
    "id": "qav3VCgyLKv5"
   },
   "source": [
    "#### Create an array of 10 zeros"
   ]
  },
  {
   "cell_type": "code",
   "execution_count": 2,
   "metadata": {
    "id": "gLlF23CdLKv6",
    "outputId": "824bc0c2-05e8-4a2f-b02c-803eb133cb1e"
   },
   "outputs": [
    {
     "name": "stdout",
     "output_type": "stream",
     "text": [
      "[0. 0. 0. 0. 0. 0. 0. 0. 0. 0.]\n"
     ]
    }
   ],
   "source": [
    "zeros_array = np.zeros(10)\n",
    "print(zeros_array)"
   ]
  },
  {
   "cell_type": "markdown",
   "metadata": {
    "id": "-r7m8k4vLKv_"
   },
   "source": [
    "#### Create an array of 10 ones"
   ]
  },
  {
   "cell_type": "code",
   "execution_count": 3,
   "metadata": {
    "id": "iwuCBhvcLKwB",
    "outputId": "2358e05b-b357-4b0e-d4c4-fefc91889469"
   },
   "outputs": [
    {
     "name": "stdout",
     "output_type": "stream",
     "text": [
      "[1. 1. 1. 1. 1. 1. 1. 1. 1. 1.]\n"
     ]
    }
   ],
   "source": [
    "ones_array = np.ones(10)\n",
    "print(ones_array)"
   ]
  },
  {
   "cell_type": "markdown",
   "metadata": {
    "id": "FIcddv6lLKwO"
   },
   "source": [
    "#### Create an array of 10 fives"
   ]
  },
  {
   "cell_type": "code",
   "execution_count": 4,
   "metadata": {
    "id": "tXDJ5b8cLKwU",
    "outputId": "f784a7d9-a26d-4d97-eeee-15e78e84b014"
   },
   "outputs": [
    {
     "name": "stdout",
     "output_type": "stream",
     "text": [
      "[5 5 5 5 5 5 5 5 5 5]\n"
     ]
    }
   ],
   "source": [
    "fives_array = np.full(10, 5)\n",
    "print(fives_array)"
   ]
  },
  {
   "cell_type": "markdown",
   "metadata": {
    "id": "4UInvEwQLKwg"
   },
   "source": [
    "#### Create an array of the integers from 10 to 50"
   ]
  },
  {
   "cell_type": "code",
   "execution_count": 5,
   "metadata": {
    "id": "Z9kAbHHiLKwj",
    "outputId": "1b2d4a50-b3c4-44af-dd3b-643a6546d019"
   },
   "outputs": [
    {
     "name": "stdout",
     "output_type": "stream",
     "text": [
      "[10 11 12 13 14 15 16 17 18 19 20 21 22 23 24 25 26 27 28 29 30 31 32 33\n",
      " 34 35 36 37 38 39 40 41 42 43 44 45 46 47 48 49 50]\n"
     ]
    }
   ],
   "source": [
    "array = np.arange(10, 51)\n",
    "print(array)"
   ]
  },
  {
   "cell_type": "markdown",
   "metadata": {
    "id": "3ZUIzdDeLKww"
   },
   "source": [
    "#### Create an array of all the even integers from 10 to 50"
   ]
  },
  {
   "cell_type": "code",
   "execution_count": 6,
   "metadata": {
    "id": "dVVfz73BLKw5",
    "outputId": "ee6de97d-f84f-4f4b-d6d6-c21c46f59666"
   },
   "outputs": [
    {
     "name": "stdout",
     "output_type": "stream",
     "text": [
      "[10, 12, 14, 16, 18, 20, 22, 24, 26, 28, 30, 32, 34, 36, 38, 40, 42, 44, 46, 48, 50]\n"
     ]
    }
   ],
   "source": [
    "even_array = list(range(10, 51, 2))\n",
    "print(even_array)"
   ]
  },
  {
   "cell_type": "markdown",
   "metadata": {
    "id": "6e200i5-LKxB"
   },
   "source": [
    "#### Create a 3x3 matrix with values ranging from 0 to 8"
   ]
  },
  {
   "cell_type": "code",
   "execution_count": 7,
   "metadata": {
    "id": "6ODYRVCxLKxF",
    "outputId": "0327b8fd-1f75-4da0-ddbc-9193a7cbbd3d"
   },
   "outputs": [
    {
     "name": "stdout",
     "output_type": "stream",
     "text": [
      "[[0 1 2]\n",
      " [3 4 5]\n",
      " [6 7 8]]\n"
     ]
    }
   ],
   "source": [
    "matrix = np.arange(9).reshape(3, 3)\n",
    "print(matrix)"
   ]
  },
  {
   "cell_type": "markdown",
   "metadata": {
    "id": "54wb4NboLKxN"
   },
   "source": [
    "#### Create a 3x3 identity matrix"
   ]
  },
  {
   "cell_type": "code",
   "execution_count": 8,
   "metadata": {
    "id": "j8JQg-VSLKxT",
    "outputId": "697e3eed-3266-4f57-90ab-ff5d5c430c7d"
   },
   "outputs": [
    {
     "name": "stdout",
     "output_type": "stream",
     "text": [
      "[[1. 0. 0.]\n",
      " [0. 1. 0.]\n",
      " [0. 0. 1.]]\n"
     ]
    }
   ],
   "source": [
    "identity_matrix = np.identity(3)\n",
    "print(identity_matrix)"
   ]
  },
  {
   "cell_type": "markdown",
   "metadata": {
    "id": "_bpkEUARLKxa"
   },
   "source": [
    "#### Use NumPy to generate a random number between 0 and 1"
   ]
  },
  {
   "cell_type": "code",
   "execution_count": 9,
   "metadata": {
    "colab": {
     "base_uri": "https://localhost:8080/"
    },
    "id": "Co4I1qACLKxc",
    "outputId": "189de031-a324-4183-e2c0-4d490685cfee"
   },
   "outputs": [
    {
     "name": "stdout",
     "output_type": "stream",
     "text": [
      "0.9298995842540161\n"
     ]
    }
   ],
   "source": [
    "random_number = np.random.rand()\n",
    "print(random_number)"
   ]
  },
  {
   "cell_type": "markdown",
   "metadata": {
    "id": "7Qix8s61LKxp"
   },
   "source": [
    "#### Use NumPy to generate an array of 25 random numbers sampled from a standard normal distribution"
   ]
  },
  {
   "cell_type": "code",
   "execution_count": 10,
   "metadata": {
    "id": "eUgQBgpQLKxs",
    "outputId": "04664997-3ff0-421e-b92e-5e12c80321f9"
   },
   "outputs": [
    {
     "name": "stdout",
     "output_type": "stream",
     "text": [
      "[-1.14813936 -0.18011614 -0.75668296 -1.67885331  0.62441575  1.55737554\n",
      " -0.10595784  0.14048945 -1.0300384   0.14568038  0.47392566  0.29557502\n",
      " -0.33248259 -0.79307602  0.16727201 -0.44627156  1.24671337 -0.06403225\n",
      " -0.05159383  2.82492061  1.99810799 -0.4533628  -1.65620112  1.82166271\n",
      " -0.38961934]\n"
     ]
    }
   ],
   "source": [
    "random_array = np.random.randn(25)\n",
    "print(random_array)"
   ]
  },
  {
   "cell_type": "markdown",
   "metadata": {
    "id": "-sL9HYlWLKx1"
   },
   "source": [
    "#### Create the following matrix:"
   ]
  },
  {
   "cell_type": "code",
   "execution_count": 11,
   "metadata": {
    "id": "p2pm5Mm6LKx5",
    "outputId": "aa76f1ed-5967-4d3d-8061-72f82595c599"
   },
   "outputs": [
    {
     "name": "stdout",
     "output_type": "stream",
     "text": [
      "[[0.01 0.02 0.03 0.04 0.05 0.06 0.07 0.08 0.09 0.1 ]\n",
      " [0.11 0.12 0.13 0.14 0.15 0.16 0.17 0.18 0.19 0.2 ]\n",
      " [0.21 0.22 0.23 0.24 0.25 0.26 0.27 0.28 0.29 0.3 ]\n",
      " [0.31 0.32 0.33 0.34 0.35 0.36 0.37 0.38 0.39 0.4 ]\n",
      " [0.41 0.42 0.43 0.44 0.45 0.46 0.47 0.48 0.49 0.5 ]\n",
      " [0.51 0.52 0.53 0.54 0.55 0.56 0.57 0.58 0.59 0.6 ]\n",
      " [0.61 0.62 0.63 0.64 0.65 0.66 0.67 0.68 0.69 0.7 ]\n",
      " [0.71 0.72 0.73 0.74 0.75 0.76 0.77 0.78 0.79 0.8 ]\n",
      " [0.81 0.82 0.83 0.84 0.85 0.86 0.87 0.88 0.89 0.9 ]\n",
      " [0.91 0.92 0.93 0.94 0.95 0.96 0.97 0.98 0.99 1.  ]]\n"
     ]
    }
   ],
   "source": [
    "matrix = np.arange(0.01, 1.01, 0.01).reshape(10, 10)\n",
    "print(matrix)"
   ]
  },
  {
   "cell_type": "markdown",
   "metadata": {
    "id": "UQzj3r7NLKx_"
   },
   "source": [
    "#### Create an array of 20 linearly spaced points between 0 and 1:"
   ]
  },
  {
   "cell_type": "code",
   "execution_count": 12,
   "metadata": {
    "id": "AniTWWz9LKyC",
    "outputId": "dfb092f8-2f1e-446a-99e2-5c6df71631ac"
   },
   "outputs": [
    {
     "name": "stdout",
     "output_type": "stream",
     "text": [
      "[0.         0.05263158 0.10526316 0.15789474 0.21052632 0.26315789\n",
      " 0.31578947 0.36842105 0.42105263 0.47368421 0.52631579 0.57894737\n",
      " 0.63157895 0.68421053 0.73684211 0.78947368 0.84210526 0.89473684\n",
      " 0.94736842 1.        ]\n"
     ]
    }
   ],
   "source": [
    "linear_space = np.linspace(0, 1, 20)\n",
    "print(linear_space)"
   ]
  },
  {
   "cell_type": "markdown",
   "metadata": {
    "id": "i3vsM3rPLKyK"
   },
   "source": [
    "## Numpy Indexing and Selection\n",
    "\n",
    "Now you will be given a few matrices, and be asked to replicate the resulting matrix outputs:"
   ]
  },
  {
   "cell_type": "code",
   "execution_count": 13,
   "metadata": {
    "id": "AM_s5FAvLKyN",
    "outputId": "b29d6933-31ca-4d45-d4c9-123877d1e7be"
   },
   "outputs": [
    {
     "data": {
      "text/plain": [
       "array([[ 1,  2,  3,  4,  5],\n",
       "       [ 6,  7,  8,  9, 10],\n",
       "       [11, 12, 13, 14, 15],\n",
       "       [16, 17, 18, 19, 20],\n",
       "       [21, 22, 23, 24, 25]])"
      ]
     },
     "execution_count": 13,
     "metadata": {},
     "output_type": "execute_result"
    }
   ],
   "source": [
    "mat = np.arange(1,26).reshape(5,5)\n",
    "mat"
   ]
  },
  {
   "cell_type": "code",
   "execution_count": 14,
   "metadata": {
    "id": "rxlUOQ4dLKyX"
   },
   "outputs": [],
   "source": [
    "# WRITE CODE HERE THAT REPRODUCES THE OUTPUT OF THE CELL BELOW\n",
    "# BE CAREFUL NOT TO RUN THE CELL BELOW, OTHERWISE YOU WON'T\n",
    "# BE ABLE TO SEE THE OUTPUT ANY MORE"
   ]
  },
  {
   "cell_type": "code",
   "execution_count": 15,
   "metadata": {
    "id": "2BJ3cylOLKyf",
    "outputId": "ab55bbee-37f2-4797-bad5-4ed340f4d684"
   },
   "outputs": [
    {
     "name": "stdout",
     "output_type": "stream",
     "text": [
      "[[12 13 14 15]\n",
      " [17 18 19 20]\n",
      " [22 23 24 25]]\n"
     ]
    }
   ],
   "source": [
    "output_array = np.array([[12, 13, 14, 15],\n",
    "                         [17, 18, 19, 20],\n",
    "                         [22, 23, 24, 25]])\n",
    "print(output_array)"
   ]
  },
  {
   "cell_type": "code",
   "execution_count": 16,
   "metadata": {
    "id": "9-U53vNoLKyw"
   },
   "outputs": [],
   "source": [
    "# WRITE CODE HERE THAT REPRODUCES THE OUTPUT OF THE CELL BELOW\n",
    "# BE CAREFUL NOT TO RUN THE CELL BELOW, OTHERWISE YOU WON'T\n",
    "# BE ABLE TO SEE THE OUTPUT ANY MORE"
   ]
  },
  {
   "cell_type": "code",
   "execution_count": 17,
   "metadata": {
    "id": "QJyclCVfLKy6",
    "outputId": "9762e12a-13fe-4567-fd7a-718402be1edb"
   },
   "outputs": [
    {
     "name": "stdout",
     "output_type": "stream",
     "text": [
      "20\n"
     ]
    }
   ],
   "source": [
    "output_array = np.array([[12, 13, 14, 15],\n",
    "                         [17, 18, 19, 20],\n",
    "                         [22, 23, 24, 25]])\n",
    "\n",
    "element_20 = output_array[1, 3]\n",
    "print(element_20)"
   ]
  },
  {
   "cell_type": "code",
   "execution_count": 18,
   "metadata": {
    "id": "E_PuvjL5LKzH"
   },
   "outputs": [],
   "source": [
    "# WRITE CODE HERE THAT REPRODUCES THE OUTPUT OF THE CELL BELOW\n",
    "# BE CAREFUL NOT TO RUN THE CELL BELOW, OTHERWISE YOU WON'T\n",
    "# BE ABLE TO SEE THE OUTPUT ANY MORE"
   ]
  },
  {
   "cell_type": "code",
   "execution_count": 19,
   "metadata": {
    "id": "TzFTd7eHLKzY",
    "outputId": "5aa2b71d-7d91-4bbd-8550-46aa7e62385d"
   },
   "outputs": [
    {
     "name": "stdout",
     "output_type": "stream",
     "text": [
      "[[ 2]\n",
      " [ 7]\n",
      " [12]]\n"
     ]
    }
   ],
   "source": [
    "output_array = np.array([[2], [7], [12]])\n",
    "print(output_array)"
   ]
  },
  {
   "cell_type": "code",
   "execution_count": 20,
   "metadata": {
    "id": "BaybacXxLKze"
   },
   "outputs": [],
   "source": [
    "# WRITE CODE HERE THAT REPRODUCES THE OUTPUT OF THE CELL BELOW\n",
    "# BE CAREFUL NOT TO RUN THE CELL BELOW, OTHERWISE YOU WON'T\n",
    "# BE ABLE TO SEE THE OUTPUT ANY MORE"
   ]
  },
  {
   "cell_type": "code",
   "execution_count": 21,
   "metadata": {
    "id": "hvblpMEFLKzl",
    "outputId": "95ecd0ff-f24a-4e5f-edae-481966a15a0a"
   },
   "outputs": [
    {
     "name": "stdout",
     "output_type": "stream",
     "text": [
      "array([21 22 23 24 25])\n"
     ]
    }
   ],
   "source": [
    "output_array = np.array([21, 22, 23, 24, 25])\n",
    "formatted_output = f'array({output_array})'\n",
    "print(formatted_output)"
   ]
  },
  {
   "cell_type": "code",
   "execution_count": 22,
   "metadata": {
    "id": "L0SoIZfILKzr"
   },
   "outputs": [],
   "source": [
    "# WRITE CODE HERE THAT REPRODUCES THE OUTPUT OF THE CELL BELOW\n",
    "# BE CAREFUL NOT TO RUN THE CELL BELOW, OTHERWISE YOU WON'T\n",
    "# BE ABLE TO SEE THE OUTPUT ANY MORE"
   ]
  },
  {
   "cell_type": "code",
   "execution_count": 23,
   "metadata": {
    "id": "h2NmY81aLKzv",
    "outputId": "ec3006aa-5bd4-43ef-b876-f0475c9a26ce"
   },
   "outputs": [
    {
     "name": "stdout",
     "output_type": "stream",
     "text": [
      "[[16 17 18 19 20]\n",
      " [21 22 23 24 25]]\n"
     ]
    }
   ],
   "source": [
    "output_array = np.array([[16, 17, 18, 19, 20],\n",
    "                         [21, 22, 23, 24, 25]])\n",
    "print(output_array)"
   ]
  },
  {
   "cell_type": "markdown",
   "metadata": {
    "id": "40ijP69QLKz6"
   },
   "source": [
    "### Now do the following"
   ]
  },
  {
   "cell_type": "markdown",
   "metadata": {
    "id": "hJYmPKZ6LKz7"
   },
   "source": [
    "#### Get the sum of all the values in mat"
   ]
  },
  {
   "cell_type": "code",
   "execution_count": 24,
   "metadata": {
    "id": "lgjWcsNHLKz9",
    "outputId": "a4aebb34-800e-490a-94fa-b2f29e05ec8a"
   },
   "outputs": [
    {
     "name": "stdout",
     "output_type": "stream",
     "text": [
      "The sum of all values in mat is 205.\n"
     ]
    }
   ],
   "source": [
    "mat = np.array([[16, 17, 18, 19, 20],\n",
    "                [21, 22, 23, 24, 25]])\n",
    "total_sum = np.sum(mat)\n",
    "print(f\"The sum of all values in mat is {total_sum}.\")"
   ]
  },
  {
   "cell_type": "markdown",
   "metadata": {
    "id": "aOxAVLe8LK0B"
   },
   "source": [
    "#### Get the standard deviation of the values in mat"
   ]
  },
  {
   "cell_type": "code",
   "execution_count": 25,
   "metadata": {
    "id": "1bExi0tvLK0D",
    "outputId": "cdcf114d-bcd3-494a-afc8-f4b592566334"
   },
   "outputs": [
    {
     "name": "stdout",
     "output_type": "stream",
     "text": [
      "2.8722813232690143\n"
     ]
    }
   ],
   "source": [
    "mat = np.array([[16, 17, 18, 19, 20],\n",
    "                [21, 22, 23, 24, 25]])\n",
    "std_deviation = np.std(mat)\n",
    "print(std_deviation)"
   ]
  },
  {
   "cell_type": "markdown",
   "metadata": {
    "id": "qWvkrLQWLK0H"
   },
   "source": [
    "#### Get the sum of all the columns in mat"
   ]
  },
  {
   "cell_type": "code",
   "execution_count": 26,
   "metadata": {
    "id": "-XFw4SD1LK0J",
    "outputId": "03cee652-bdb1-411c-a81f-7534525a3d21"
   },
   "outputs": [
    {
     "name": "stdout",
     "output_type": "stream",
     "text": [
      "[37 39 41 43 45]\n"
     ]
    }
   ],
   "source": [
    "mat = np.array([[16, 17, 18, 19, 20],\n",
    "                [21, 22, 23, 24, 25]])\n",
    "\n",
    "column_sums = np.sum(mat, axis=0)\n",
    "print(column_sums)"
   ]
  },
  {
   "cell_type": "markdown",
   "metadata": {
    "collapsed": true,
    "id": "x75g5hGlLK0N"
   },
   "source": []
  }
 ],
 "metadata": {
  "colab": {
   "provenance": []
  },
  "kernelspec": {
   "display_name": "Python 3 (ipykernel)",
   "language": "python",
   "name": "python3"
  },
  "language_info": {
   "codemirror_mode": {
    "name": "ipython",
    "version": 3
   },
   "file_extension": ".py",
   "mimetype": "text/x-python",
   "name": "python",
   "nbconvert_exporter": "python",
   "pygments_lexer": "ipython3",
   "version": "3.11.4"
  }
 },
 "nbformat": 4,
 "nbformat_minor": 1
}
