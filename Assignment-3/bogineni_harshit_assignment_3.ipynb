{
 "cells": [
  {
   "cell_type": "markdown",
   "metadata": {
    "id": "EGP5j_uNjke5"
   },
   "source": [
    "1) Importing Libraries"
   ]
  },
  {
   "cell_type": "code",
   "execution_count": 64,
   "metadata": {
    "id": "hRe8p0ceXMjL"
   },
   "outputs": [],
   "source": [
    "import numpy as np\n",
    "import pandas as pd\n",
    "import matplotlib.pyplot as plt\n",
    "import seaborn as sns\n",
    "from sklearn.model_selection import train_test_split\n",
    "from sklearn.preprocessing import StandardScaler, LabelEncoder"
   ]
  },
  {
   "cell_type": "markdown",
   "metadata": {
    "id": "DTJ0aokgcOOu"
   },
   "source": [
    "2) Load the dataset"
   ]
  },
  {
   "cell_type": "code",
   "execution_count": 65,
   "metadata": {
    "id": "nKXsXPkhXQbv"
   },
   "outputs": [],
   "source": [
    "df = pd.read_csv('titanic.csv')"
   ]
  },
  {
   "cell_type": "markdown",
   "metadata": {
    "id": "VnOUOeOpcNR0"
   },
   "source": [
    " 3) Checking for Null Values"
   ]
  },
  {
   "cell_type": "code",
   "execution_count": 66,
   "metadata": {
    "colab": {
     "base_uri": "https://localhost:8080/"
    },
    "id": "NPm7z_o3XSLT",
    "outputId": "008b78ee-9517-4794-ec51-02ab93d83f56"
   },
   "outputs": [
    {
     "name": "stdout",
     "output_type": "stream",
     "text": [
      "PassengerId      0\n",
      "Survived         0\n",
      "Pclass           0\n",
      "Name             0\n",
      "Sex              0\n",
      "Age            177\n",
      "SibSp            0\n",
      "Parch            0\n",
      "Ticket           0\n",
      "Fare             0\n",
      "Cabin          687\n",
      "Embarked         2\n",
      "dtype: int64\n",
      "\n",
      "Data after checking for Null Values:\n",
      "   PassengerId  Survived  Pclass  \\\n",
      "0            1         0       3   \n",
      "1            2         1       1   \n",
      "2            3         1       3   \n",
      "3            4         1       1   \n",
      "4            5         0       3   \n",
      "\n",
      "                                                Name     Sex   Age  SibSp  \\\n",
      "0                            Braund, Mr. Owen Harris    male  22.0      1   \n",
      "1  Cumings, Mrs. John Bradley (Florence Briggs Th...  female  38.0      1   \n",
      "2                             Heikkinen, Miss. Laina  female  26.0      0   \n",
      "3       Futrelle, Mrs. Jacques Heath (Lily May Peel)  female  35.0      1   \n",
      "4                           Allen, Mr. William Henry    male  35.0      0   \n",
      "\n",
      "   Parch            Ticket     Fare Cabin Embarked  \n",
      "0      0         A/5 21171   7.2500   NaN        S  \n",
      "1      0          PC 17599  71.2833   C85        C  \n",
      "2      0  STON/O2. 3101282   7.9250   NaN        S  \n",
      "3      0            113803  53.1000  C123        S  \n",
      "4      0            373450   8.0500   NaN        S  \n"
     ]
    }
   ],
   "source": [
    "print(df.isnull().sum())\n",
    "print(\"\\nData after checking for Null Values:\")\n",
    "print(df.head())"
   ]
  },
  {
   "cell_type": "markdown",
   "metadata": {
    "id": "JdSRng2YcUsw"
   },
   "source": [
    "4) Data Visualization"
   ]
  },
  {
   "cell_type": "code",
   "execution_count": 67,
   "metadata": {
    "colab": {
     "base_uri": "https://localhost:8080/",
     "height": 472
    },
    "id": "wq1V5v69XTvX",
    "outputId": "993e407e-0011-4125-f005-7e8050f52539"
   },
   "outputs": [
    {
     "data": {
      "image/png": "[encoded data removed]",
      "text/plain": [
       "<Figure size 640x480 with 1 Axes>"
      ]
     },
     "metadata": {},
     "output_type": "display_data"
    }
   ],
   "source": [
    "# Example: Plot a histogram of passenger ages\n",
    "plt.hist(df['Age'].dropna(), bins=20)\n",
    "plt.xlabel('Age')\n",
    "plt.ylabel('Count')\n",
    "plt.title('Distribution of Passenger Ages')\n",
    "plt.show()\n"
   ]
  },
  {
   "cell_type": "markdown",
   "metadata": {
    "id": "QUff5mszd_Ir"
   },
   "source": [
    "5) Outlier Detection using IQR (Interquartile Range)"
   ]
  },
  {
   "cell_type": "code",
   "execution_count": 68,
   "metadata": {
    "colab": {
     "base_uri": "https://localhost:8080/"
    },
    "id": "p9YI8L2waX71",
    "outputId": "8f57b8be-5a36-4383-ab60-0e219158c7ef"
   },
   "outputs": [
    {
     "name": "stdout",
     "output_type": "stream",
     "text": [
      "Number of outliers detected: 126\n",
      "Data after removing outliers:\n",
      "   PassengerId  Survived  Pclass  \\\n",
      "0            1         0       3   \n",
      "2            3         1       3   \n",
      "3            4         1       1   \n",
      "4            5         0       3   \n",
      "5            6         0       3   \n",
      "\n",
      "                                           Name     Sex   Age  SibSp  Parch  \\\n",
      "0                       Braund, Mr. Owen Harris    male  22.0      1      0   \n",
      "2                        Heikkinen, Miss. Laina  female  26.0      0      0   \n",
      "3  Futrelle, Mrs. Jacques Heath (Lily May Peel)  female  35.0      1      0   \n",
      "4                      Allen, Mr. William Henry    male  35.0      0      0   \n",
      "5                              Moran, Mr. James    male   NaN      0      0   \n",
      "\n",
      "             Ticket     Fare Cabin Embarked  \n",
      "0         A/5 21171   7.2500   NaN        S  \n",
      "2  STON/O2. 3101282   7.9250   NaN        S  \n",
      "3            113803  53.1000  C123        S  \n",
      "4            373450   8.0500   NaN        S  \n",
      "5            330877   8.4583   NaN        Q  \n"
     ]
    }
   ],
   "source": [
    "# Calculate the IQR for numerical columns\n",
    "Q1 = df[['Age', 'Fare']].quantile(0.25)\n",
    "Q3 = df[['Age', 'Fare']].quantile(0.75)\n",
    "IQR = Q3 - Q1\n",
    "\n",
    "# Define a multiplier (e.g., 1.5) to determine the outlier threshold\n",
    "threshold = 1.5\n",
    "\n",
    "# Identify outliers\n",
    "outliers = ((df[['Age', 'Fare']] < (Q1 - threshold * IQR)) | (df[['Age', 'Fare']] > (Q3 + threshold * IQR))).any(axis=1)\n",
    "\n",
    "# Remove the rows containing outliers\n",
    "df_no_outliers = df[~outliers]\n",
    "\n",
    "print(f\"Number of outliers detected: {outliers.sum()}\")\n",
    "print(\"Data after removing outliers:\")\n",
    "print(df_no_outliers.head())\n"
   ]
  },
  {
   "cell_type": "markdown",
   "metadata": {
    "id": "wSzTCEzwjE1j"
   },
   "source": [
    "6) Splitting Dependent and Independent Variables"
   ]
  },
  {
   "cell_type": "code",
   "execution_count": 69,
   "metadata": {
    "colab": {
     "base_uri": "https://localhost:8080/"
    },
    "id": "mfst47RXXXFb",
    "outputId": "f2ae1e14-1ebf-470e-99b3-397d5b514774"
   },
   "outputs": [
    {
     "name": "stdout",
     "output_type": "stream",
     "text": [
      "X (Independent Variables):\n",
      "   PassengerId  Pclass                                               Name  \\\n",
      "0            1       3                            Braund, Mr. Owen Harris   \n",
      "1            2       1  Cumings, Mrs. John Bradley (Florence Briggs Th...   \n",
      "2            3       3                             Heikkinen, Miss. Laina   \n",
      "3            4       1       Futrelle, Mrs. Jacques Heath (Lily May Peel)   \n",
      "4            5       3                           Allen, Mr. William Henry   \n",
      "\n",
      "      Sex   Age  SibSp  Parch            Ticket     Fare Cabin Embarked  \n",
      "0    male  22.0      1      0         A/5 21171   7.2500   NaN        S  \n",
      "1  female  38.0      1      0          PC 17599  71.2833   C85        C  \n",
      "2  female  26.0      0      0  STON/O2. 3101282   7.9250   NaN        S  \n",
      "3  female  35.0      1      0            113803  53.1000  C123        S  \n",
      "4    male  35.0      0      0            373450   8.0500   NaN        S  \n",
      "\n",
      "y (Dependent Variable):\n",
      "0    0\n",
      "1    1\n",
      "2    1\n",
      "3    1\n",
      "4    0\n",
      "Name: Survived, dtype: int64\n"
     ]
    }
   ],
   "source": [
    "X = df.drop('Survived', axis=1)  # Independent variables/features\n",
    "y = df['Survived']  # Dependent variable/target\n",
    "print(\"X (Independent Variables):\")\n",
    "print(X.head())\n",
    "print(\"\\ny (Dependent Variable):\")\n",
    "print(y.head())"
   ]
  },
  {
   "cell_type": "markdown",
   "metadata": {
    "id": "xi29rTIpikeq"
   },
   "source": [
    "7) Perform Encoding"
   ]
  },
  {
   "cell_type": "code",
   "execution_count": 70,
   "metadata": {
    "colab": {
     "base_uri": "https://localhost:8080/"
    },
    "id": "cw1s8ykpXone",
    "outputId": "8b3b3478-6c64-40c7-ba79-6b20184879ed"
   },
   "outputs": [
    {
     "name": "stdout",
     "output_type": "stream",
     "text": [
      "Data after Encoding:\n",
      "   PassengerId  Pclass                                               Name  \\\n",
      "0            1       3                            Braund, Mr. Owen Harris   \n",
      "1            2       1  Cumings, Mrs. John Bradley (Florence Briggs Th...   \n",
      "2            3       3                             Heikkinen, Miss. Laina   \n",
      "3            4       1       Futrelle, Mrs. Jacques Heath (Lily May Peel)   \n",
      "4            5       3                           Allen, Mr. William Henry   \n",
      "\n",
      "   Sex   Age  SibSp  Parch            Ticket     Fare Cabin  Embarked  \n",
      "0    1  22.0      1      0         A/5 21171   7.2500   NaN         2  \n",
      "1    0  38.0      1      0          PC 17599  71.2833   C85         0  \n",
      "2    0  26.0      0      0  STON/O2. 3101282   7.9250   NaN         2  \n",
      "3    0  35.0      1      0            113803  53.1000  C123         2  \n",
      "4    1  35.0      0      0            373450   8.0500   NaN         2  \n"
     ]
    }
   ],
   "source": [
    "label_encoder = LabelEncoder()\n",
    "X['Sex'] = label_encoder.fit_transform(X['Sex'])\n",
    "X['Embarked'] = label_encoder.fit_transform(X['Embarked'])\n",
    "print(\"Data after Encoding:\")\n",
    "print(X.head())"
   ]
  },
  {
   "cell_type": "markdown",
   "metadata": {
    "id": "kVpR2Mvyimer"
   },
   "source": [
    "8) Feature Scaling"
   ]
  },
  {
   "cell_type": "code",
   "execution_count": 71,
   "metadata": {
    "colab": {
     "base_uri": "https://localhost:8080/"
    },
    "id": "2PPwUjVrXqvY",
    "outputId": "2c00ea1d-eb52-47bf-bc3c-c90cefb694d5"
   },
   "outputs": [
    {
     "name": "stdout",
     "output_type": "stream",
     "text": [
      "Data after Feature Scaling:\n",
      "   PassengerId  Pclass                                               Name  \\\n",
      "0            1       3                            Braund, Mr. Owen Harris   \n",
      "1            2       1  Cumings, Mrs. John Bradley (Florence Briggs Th...   \n",
      "2            3       3                             Heikkinen, Miss. Laina   \n",
      "3            4       1       Futrelle, Mrs. Jacques Heath (Lily May Peel)   \n",
      "4            5       3                           Allen, Mr. William Henry   \n",
      "\n",
      "   Sex       Age  SibSp  Parch            Ticket      Fare Cabin  Embarked  \n",
      "0    1 -0.530377      1      0         A/5 21171 -0.502445   NaN         2  \n",
      "1    0  0.571831      1      0          PC 17599  0.786845   C85         0  \n",
      "2    0 -0.254825      0      0  STON/O2. 3101282 -0.488854   NaN         2  \n",
      "3    0  0.365167      1      0            113803  0.420730  C123         2  \n",
      "4    1  0.365167      0      0            373450 -0.486337   NaN         2  \n"
     ]
    }
   ],
   "source": [
    "scaler = StandardScaler()\n",
    "X[['Age', 'Fare']] = scaler.fit_transform(X[['Age', 'Fare']])\n",
    "print(\"Data after Feature Scaling:\")\n",
    "print(X.head())"
   ]
  },
  {
   "cell_type": "markdown",
   "metadata": {
    "id": "0vF_EUCOi5I1"
   },
   "source": [
    "9) Splitting Data into Train and Test"
   ]
  },
  {
   "cell_type": "code",
   "execution_count": 72,
   "metadata": {
    "colab": {
     "base_uri": "https://localhost:8080/"
    },
    "id": "oKfhOCx0XuDV",
    "outputId": "855d42c1-f00d-472a-e6d4-7c88bd163d4a"
   },
   "outputs": [
    {
     "name": "stdout",
     "output_type": "stream",
     "text": [
      "X_train (Training Data):\n",
      "     PassengerId  Pclass                                Name  Sex       Age  \\\n",
      "331          332       1                 Partner, Mr. Austen    1  1.088491   \n",
      "733          734       2          Berriman, Mr. William John    1 -0.461489   \n",
      "382          383       3                  Tikkanen, Mr. Juho    1  0.158503   \n",
      "704          705       3             Hansen, Mr. Henrik Juul    1 -0.254825   \n",
      "813          814       3  Andersson, Miss. Ebba Iris Alfrida    0 -1.632584   \n",
      "\n",
      "     SibSp  Parch             Ticket      Fare Cabin  Embarked  \n",
      "331      0      0             113043 -0.074583  C124         2  \n",
      "733      0      0              28425 -0.386671   NaN         2  \n",
      "382      0      0  STON/O 2. 3101293 -0.488854   NaN         2  \n",
      "704      1      0             350025 -0.490280   NaN         2  \n",
      "813      4      2             347082 -0.018709   NaN         2  \n",
      "\n",
      "X_test (Testing Data):\n",
      "     PassengerId  Pclass                                               Name  \\\n",
      "709          710       3  Moubarek, Master. Halim Gonios (\"William George\")   \n",
      "439          440       2             Kvillner, Mr. Johan Henrik Johannesson   \n",
      "840          841       3                        Alhomaki, Mr. Ilmari Rudolf   \n",
      "720          721       2                  Harper, Miss. Annie Jessie \"Nina\"   \n",
      "39            40       3                        Nicola-Yarred, Miss. Jamila   \n",
      "\n",
      "     Sex       Age  SibSp  Parch            Ticket      Fare Cabin  Embarked  \n",
      "709    1       NaN      1      1              2661 -0.341452   NaN         0  \n",
      "439    1  0.089615      0      0        C.A. 18723 -0.437007   NaN         2  \n",
      "840    1 -0.668153      0      0  SOTON/O2 3101287 -0.488854   NaN         2  \n",
      "720    0 -1.632584      0      1            248727  0.016023   NaN         2  \n",
      "39     0 -1.081480      1      0              2651 -0.422074   NaN         0  \n",
      "\n",
      "y_train (Training Labels):\n",
      "331    0\n",
      "733    0\n",
      "382    0\n",
      "704    0\n",
      "813    0\n",
      "Name: Survived, dtype: int64\n",
      "\n",
      "y_test (Testing Labels):\n",
      "709    1\n",
      "439    0\n",
      "840    0\n",
      "720    1\n",
      "39     1\n",
      "Name: Survived, dtype: int64\n"
     ]
    }
   ],
   "source": [
    "X_train, X_test, y_train, y_test = train_test_split(X, y, test_size=0.2, random_state=42)\n",
    "print(\"X_train (Training Data):\")\n",
    "print(X_train.head())\n",
    "print(\"\\nX_test (Testing Data):\")\n",
    "print(X_test.head())\n",
    "print(\"\\ny_train (Training Labels):\")\n",
    "print(y_train.head())\n",
    "print(\"\\ny_test (Testing Labels):\")\n",
    "print(y_test.head())"
   ]
  }
 ],
 "metadata": {
  "colab": {
   "provenance": []
  },
  "kernelspec": {
   "display_name": "Python 3 (ipykernel)",
   "language": "python",
   "name": "python3"
  },
  "language_info": {
   "codemirror_mode": {
    "name": "ipython",
    "version": 3
   },
   "file_extension": ".py",
   "mimetype": "text/x-python",
   "name": "python",
   "nbconvert_exporter": "python",
   "pygments_lexer": "ipython3",
   "version": "3.11.4"
  }
 },
 "nbformat": 4,
 "nbformat_minor": 1
}
